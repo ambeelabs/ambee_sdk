{
 "cells": [
  {
   "cell_type": "code",
   "execution_count": null,
   "id": "e11adbdc",
   "metadata": {
    "ExecuteTime": {
     "end_time": "2023-03-07T04:39:08.475743Z",
     "start_time": "2023-03-07T04:39:08.163576Z"
    }
   },
   "outputs": [],
   "source": [
    "import ambee_sdk as ambee\n",
    "import datetime"
   ]
  },
  {
   "cell_type": "code",
   "execution_count": null,
   "id": "c6cf0b6f",
   "metadata": {
    "ExecuteTime": {
     "end_time": "2023-03-07T04:39:08.867222Z",
     "start_time": "2023-03-07T04:39:08.864623Z"
    }
   },
   "outputs": [],
   "source": [
    "x_api_key = \"Your Key Here\""
   ]
  },
  {
   "cell_type": "code",
   "execution_count": null,
   "id": "b4ce289d",
   "metadata": {
    "ExecuteTime": {
     "end_time": "2023-03-07T04:39:09.491949Z",
     "start_time": "2023-03-07T04:39:09.489510Z"
    }
   },
   "outputs": [],
   "source": [
    "aq = ambee.air_quality(x_api_key=x_api_key)"
   ]
  },
  {
   "cell_type": "code",
   "execution_count": null,
   "id": "444a43a6",
   "metadata": {
    "ExecuteTime": {
     "end_time": "2023-03-07T04:39:09.920186Z",
     "start_time": "2023-03-07T04:39:09.912928Z"
    }
   },
   "outputs": [],
   "source": [
    "aq.x_api_key"
   ]
  },
  {
   "cell_type": "code",
   "execution_count": null,
   "id": "454af950",
   "metadata": {
    "ExecuteTime": {
     "end_time": "2023-03-07T04:39:10.679953Z",
     "start_time": "2023-03-07T04:39:10.362033Z"
    }
   },
   "outputs": [],
   "source": [
    "aq.get_latest(by='latlng', lat=12, lng=77, return_df=True)"
   ]
  },
  {
   "cell_type": "code",
   "execution_count": null,
   "id": "27fb330a",
   "metadata": {
    "ExecuteTime": {
     "end_time": "2023-03-07T04:39:11.384170Z",
     "start_time": "2023-03-07T04:39:11.215923Z"
    }
   },
   "outputs": [],
   "source": [
    "aq.get_latest(by='postcode', postalCode=560020, countryCode=\"IN\",return_df=True)"
   ]
  },
  {
   "cell_type": "code",
   "execution_count": null,
   "id": "365732d3",
   "metadata": {
    "ExecuteTime": {
     "end_time": "2023-03-07T04:39:12.205665Z",
     "start_time": "2023-03-07T04:39:11.943797Z"
    }
   },
   "outputs": [],
   "source": [
    "aq.get_latest(by='city', city=\"Mysore\", return_df=True)"
   ]
  },
  {
   "cell_type": "code",
   "execution_count": null,
   "id": "f845083b",
   "metadata": {
    "ExecuteTime": {
     "end_time": "2023-03-07T04:39:12.976865Z",
     "start_time": "2023-03-07T04:39:12.767398Z"
    }
   },
   "outputs": [],
   "source": [
    "aq.get_latest(by='countrycode', countryCode=\"IN\", return_df=True)"
   ]
  },
  {
   "cell_type": "code",
   "execution_count": null,
   "id": "791cbadf",
   "metadata": {
    "ExecuteTime": {
     "end_time": "2023-03-07T04:39:16.195832Z",
     "start_time": "2023-03-07T04:39:16.193366Z"
    }
   },
   "outputs": [],
   "source": [
    "to_val = datetime.datetime.utcnow()\n",
    "from_val = to_val - datetime.timedelta(days=1)"
   ]
  },
  {
   "cell_type": "code",
   "execution_count": null,
   "id": "e67f5e87",
   "metadata": {
    "ExecuteTime": {
     "end_time": "2023-03-07T04:39:16.845772Z",
     "start_time": "2023-03-07T04:39:16.842361Z"
    }
   },
   "outputs": [],
   "source": [
    "to_val = to_val.strftime(\"%Y-%m-%d %H:%M:%S\")\n",
    "to_val"
   ]
  },
  {
   "cell_type": "code",
   "execution_count": null,
   "id": "8a835383",
   "metadata": {
    "ExecuteTime": {
     "end_time": "2023-03-07T04:39:17.310301Z",
     "start_time": "2023-03-07T04:39:17.306822Z"
    }
   },
   "outputs": [],
   "source": [
    "from_val = from_val.strftime(\"%Y-%m-%d %H:%M:%S\")\n",
    "from_val"
   ]
  },
  {
   "cell_type": "code",
   "execution_count": null,
   "id": "7841c082",
   "metadata": {
    "ExecuteTime": {
     "end_time": "2023-03-07T04:39:18.423212Z",
     "start_time": "2023-03-07T04:39:17.808290Z"
    }
   },
   "outputs": [],
   "source": [
    "aq.get_historical(by='latlng', lat=12, lng=77, from_val=from_val, to_val=to_val, return_df=True)"
   ]
  },
  {
   "cell_type": "code",
   "execution_count": null,
   "id": "cb07ba50",
   "metadata": {
    "ExecuteTime": {
     "end_time": "2023-03-07T04:39:19.384517Z",
     "start_time": "2023-03-07T04:39:18.914639Z"
    }
   },
   "outputs": [],
   "source": [
    "aq.get_historical(by='postcode', postalCode=560020, countryCode=\"IN\", from_val=from_val, to_val=to_val, return_df=True)"
   ]
  },
  {
   "cell_type": "code",
   "execution_count": null,
   "id": "a9f3feb1",
   "metadata": {
    "ExecuteTime": {
     "end_time": "2023-03-07T04:39:19.939675Z",
     "start_time": "2023-03-07T04:39:19.934445Z"
    }
   },
   "outputs": [],
   "source": [
    "pollen = ambee.pollen(x_api_key=x_api_key)"
   ]
  },
  {
   "cell_type": "code",
   "execution_count": null,
   "id": "7ee9c1e5",
   "metadata": {
    "ExecuteTime": {
     "end_time": "2023-03-07T04:39:21.326709Z",
     "start_time": "2023-03-07T04:39:20.556336Z"
    }
   },
   "outputs": [],
   "source": [
    "pollen.get_latest(by='latlng', lat=12, lng=77, return_df=True)"
   ]
  },
  {
   "cell_type": "code",
   "execution_count": null,
   "id": "f5beb007",
   "metadata": {
    "ExecuteTime": {
     "end_time": "2023-03-07T04:39:22.551305Z",
     "start_time": "2023-03-07T04:39:21.759385Z"
    }
   },
   "outputs": [],
   "source": [
    "pollen.get_latest(by='place', place='London', return_df=True)"
   ]
  },
  {
   "cell_type": "code",
   "execution_count": null,
   "id": "c869d4ae",
   "metadata": {
    "ExecuteTime": {
     "end_time": "2023-03-07T04:39:25.420016Z",
     "start_time": "2023-03-07T04:39:22.707297Z"
    }
   },
   "outputs": [],
   "source": [
    "pollen.get_historical(by='latlng', lat=12, lng=77, from_val=from_val, to_val=to_val, return_df=True)"
   ]
  },
  {
   "cell_type": "code",
   "execution_count": null,
   "id": "4fb2ab83",
   "metadata": {
    "ExecuteTime": {
     "end_time": "2023-03-07T04:39:30.446819Z",
     "start_time": "2023-03-07T04:39:27.491330Z"
    }
   },
   "outputs": [],
   "source": [
    "pollen.get_historical(by='place', place='London', from_val=from_val, to_val=to_val, return_df=True)"
   ]
  },
  {
   "cell_type": "code",
   "execution_count": null,
   "id": "c3694b27",
   "metadata": {
    "ExecuteTime": {
     "end_time": "2023-03-07T04:39:31.456705Z",
     "start_time": "2023-03-07T04:39:30.457989Z"
    }
   },
   "outputs": [],
   "source": [
    "pollen.get_forecast(by='latlng', lat=12, lng=77, return_df=True)"
   ]
  },
  {
   "cell_type": "code",
   "execution_count": null,
   "id": "2220fac9",
   "metadata": {
    "ExecuteTime": {
     "end_time": "2023-03-07T04:39:32.386909Z",
     "start_time": "2023-03-07T04:39:31.467028Z"
    }
   },
   "outputs": [],
   "source": [
    "pollen.get_forecast(by='place', place='London', return_df=True)"
   ]
  },
  {
   "cell_type": "code",
   "execution_count": null,
   "id": "46c9474c",
   "metadata": {
    "ExecuteTime": {
     "end_time": "2023-03-07T04:39:32.401334Z",
     "start_time": "2023-03-07T04:39:32.398784Z"
    }
   },
   "outputs": [],
   "source": [
    "weather = ambee.weather(x_api_key=x_api_key)"
   ]
  },
  {
   "cell_type": "code",
   "execution_count": null,
   "id": "1f1a3666",
   "metadata": {
    "ExecuteTime": {
     "end_time": "2023-03-07T04:39:33.607274Z",
     "start_time": "2023-03-07T04:39:32.413509Z"
    }
   },
   "outputs": [],
   "source": [
    "weather.get_latest(by='latlng', lat=12, lng=77, return_df=True)"
   ]
  },
  {
   "cell_type": "code",
   "execution_count": null,
   "id": "1e525737",
   "metadata": {
    "ExecuteTime": {
     "end_time": "2023-03-07T04:39:36.285942Z",
     "start_time": "2023-03-07T04:39:33.620059Z"
    }
   },
   "outputs": [],
   "source": [
    "weather.get_historical(by='latlng', lat=12, lng=77, from_val=from_val, to_val=to_val, return_df=True)"
   ]
  },
  {
   "cell_type": "code",
   "execution_count": null,
   "id": "18764270",
   "metadata": {
    "ExecuteTime": {
     "end_time": "2023-03-07T04:39:38.908028Z",
     "start_time": "2023-03-07T04:39:36.296763Z"
    }
   },
   "outputs": [],
   "source": [
    "weather.get_historical(by='latlng', lat=12, lng=77, from_val=from_val, to_val=to_val, daily=True, return_df=True)"
   ]
  },
  {
   "cell_type": "code",
   "execution_count": null,
   "id": "88d4c637",
   "metadata": {
    "ExecuteTime": {
     "end_time": "2023-03-07T04:39:40.188689Z",
     "start_time": "2023-03-07T04:39:38.920249Z"
    }
   },
   "outputs": [],
   "source": [
    "weather.get_forecast(by='latlng', lat=12, lng=77, return_df=True)"
   ]
  },
  {
   "cell_type": "code",
   "execution_count": null,
   "id": "9377bfaf",
   "metadata": {
    "ExecuteTime": {
     "end_time": "2023-03-07T04:39:44.256030Z",
     "start_time": "2023-03-07T04:39:40.202538Z"
    }
   },
   "outputs": [],
   "source": [
    "weather.get_forecast(by='latlng', lat=12, lng=77, daily=True, return_df=True)"
   ]
  },
  {
   "cell_type": "code",
   "execution_count": null,
   "id": "d0cc8854",
   "metadata": {
    "ExecuteTime": {
     "end_time": "2023-03-07T04:39:44.426092Z",
     "start_time": "2023-03-07T04:39:44.270965Z"
    }
   },
   "outputs": [],
   "source": [
    "weather.get_severe_weather(by='latlng', lat=12, lng=77, return_df=True)"
   ]
  },
  {
   "cell_type": "code",
   "execution_count": null,
   "id": "c14179fd",
   "metadata": {
    "ExecuteTime": {
     "end_time": "2023-03-07T04:39:44.586211Z",
     "start_time": "2023-03-07T04:39:44.443614Z"
    }
   },
   "outputs": [],
   "source": [
    "weather.get_severe_weather(by='place', place='London', return_df=True)"
   ]
  },
  {
   "cell_type": "code",
   "execution_count": null,
   "id": "662a8532",
   "metadata": {
    "ExecuteTime": {
     "end_time": "2023-03-07T04:39:45.791190Z",
     "start_time": "2023-03-07T04:39:44.602554Z"
    }
   },
   "outputs": [],
   "source": [
    "weather.get_latest(by='latlng', lat=12, lng=77, units='si', return_df=True)"
   ]
  },
  {
   "cell_type": "code",
   "execution_count": null,
   "id": "6ae31741",
   "metadata": {
    "ExecuteTime": {
     "end_time": "2023-03-07T04:39:48.370286Z",
     "start_time": "2023-03-07T04:39:45.808388Z"
    }
   },
   "outputs": [],
   "source": [
    "weather.get_historical(by='latlng', lat=12, lng=77, from_val=from_val, to_val=to_val, units='si', return_df=True)"
   ]
  },
  {
   "cell_type": "code",
   "execution_count": null,
   "id": "4f34af10",
   "metadata": {
    "ExecuteTime": {
     "end_time": "2023-03-07T04:39:51.023417Z",
     "start_time": "2023-03-07T04:39:48.384011Z"
    }
   },
   "outputs": [],
   "source": [
    "weather.get_historical(by='latlng', lat=12, lng=77, from_val=from_val, to_val=to_val, daily=True, units='si', return_df=True)"
   ]
  },
  {
   "cell_type": "code",
   "execution_count": null,
   "id": "a69f8b0b",
   "metadata": {
    "ExecuteTime": {
     "end_time": "2023-03-07T04:39:52.269423Z",
     "start_time": "2023-03-07T04:39:51.041306Z"
    }
   },
   "outputs": [],
   "source": [
    "weather.get_forecast(by='latlng', lat=12, lng=77, units='si', return_df=True)"
   ]
  },
  {
   "cell_type": "code",
   "execution_count": null,
   "id": "b38d492c",
   "metadata": {
    "ExecuteTime": {
     "end_time": "2023-03-07T04:39:56.340166Z",
     "start_time": "2023-03-07T04:39:52.286724Z"
    }
   },
   "outputs": [],
   "source": [
    "weather.get_forecast(by='latlng', lat=12, lng=77, daily=True, units='si', return_df=True)"
   ]
  },
  {
   "cell_type": "code",
   "execution_count": null,
   "id": "5146e71e",
   "metadata": {
    "ExecuteTime": {
     "end_time": "2023-03-07T04:39:56.494341Z",
     "start_time": "2023-03-07T04:39:56.353993Z"
    }
   },
   "outputs": [],
   "source": [
    "weather.get_severe_weather(by='latlng', lat=12, lng=77, units='si', return_df=True)"
   ]
  },
  {
   "cell_type": "code",
   "execution_count": null,
   "id": "d1bfa4c3",
   "metadata": {
    "ExecuteTime": {
     "end_time": "2023-03-07T04:39:56.682787Z",
     "start_time": "2023-03-07T04:39:56.513430Z"
    }
   },
   "outputs": [],
   "source": [
    "weather.get_severe_weather(by='place', place='London', units='si', return_df=True)"
   ]
  },
  {
   "cell_type": "code",
   "execution_count": null,
   "id": "500285a2",
   "metadata": {
    "ExecuteTime": {
     "end_time": "2023-03-07T04:39:56.705844Z",
     "start_time": "2023-03-07T04:39:56.701882Z"
    }
   },
   "outputs": [],
   "source": [
    "fire = ambee.fire(x_api_key=x_api_key)"
   ]
  },
  {
   "cell_type": "code",
   "execution_count": null,
   "id": "24642313",
   "metadata": {
    "ExecuteTime": {
     "end_time": "2023-03-07T04:39:56.883940Z",
     "start_time": "2023-03-07T04:39:56.721148Z"
    }
   },
   "outputs": [],
   "source": [
    "fire.get_latest(by='latlng', lat=12, lng=77, return_df=True)"
   ]
  },
  {
   "cell_type": "code",
   "execution_count": null,
   "id": "83f9f5f0",
   "metadata": {
    "ExecuteTime": {
     "end_time": "2023-03-07T04:39:57.060958Z",
     "start_time": "2023-03-07T04:39:56.906089Z"
    }
   },
   "outputs": [],
   "source": [
    "fire.get_latest(by='place', place='London', return_df=True)"
   ]
  },
  {
   "cell_type": "code",
   "execution_count": null,
   "id": "56919efa",
   "metadata": {},
   "outputs": [],
   "source": [
    "fire.get_latest(by=\"polygon\", burnedAreaLoc=True,coordinates=[[-147.6153523, 64.8027699],[-147.6097851, 64.8030029],[-147.6097314, 64.8010606]],return_df=True)"
   ]
  },
  {
   "cell_type": "code",
   "execution_count": null,
   "id": "268f0bc6",
   "metadata": {},
   "outputs": [],
   "source": [
    "fire.get_forcast(by=\"latlng\", lat=-28.25, lng=142.5, return_df=True)"
   ]
  },
  {
   "cell_type": "code",
   "execution_count": null,
   "id": "b3809427",
   "metadata": {
    "ExecuteTime": {
     "end_time": "2023-03-07T04:39:57.079970Z",
     "start_time": "2023-03-07T04:39:57.077333Z"
    }
   },
   "outputs": [],
   "source": [
    "ndvi = ambee.ndvi(x_api_key=x_api_key)"
   ]
  },
  {
   "cell_type": "code",
   "execution_count": null,
   "id": "6dd4b656",
   "metadata": {
    "ExecuteTime": {
     "end_time": "2023-03-07T04:39:57.297946Z",
     "start_time": "2023-03-07T04:39:57.106393Z"
    }
   },
   "outputs": [],
   "source": [
    "ndvi.get_latest(by='latlng', lat=12, lng=77, return_df=True)"
   ]
  },
  {
   "cell_type": "code",
   "execution_count": null,
   "id": "226e69b4",
   "metadata": {},
   "outputs": [],
   "source": [
    "disaster = ambee.natural_disaster(x_api_key=x_api_key)"
   ]
  },
  {
   "cell_type": "code",
   "execution_count": null,
   "id": "b223b1d4",
   "metadata": {},
   "outputs": [],
   "source": [
    "disaster.get_latest(by=\"latlng\",lat=-15.76166996,lng=-72.48771045489497, return_df=True)"
   ]
  },
  {
   "cell_type": "code",
   "execution_count": null,
   "id": "161477cd",
   "metadata": {},
   "outputs": [],
   "source": [
    "disaster.get_historical(by=\"latlng\",lat=-15.76166996,lng=-72.48771045489497, from_val=from_val, to_val=to_val, return_df=True)"
   ]
  }
 ],
 "metadata": {
  "hide_input": false,
  "kernelspec": {
   "display_name": "Python 3 (ipykernel)",
   "language": "python",
   "name": "python3"
  },
  "language_info": {
   "codemirror_mode": {
    "name": "ipython",
    "version": 3
   },
   "file_extension": ".py",
   "mimetype": "text/x-python",
   "name": "python",
   "nbconvert_exporter": "python",
   "pygments_lexer": "ipython3",
   "version": "3.10.12"
  },
  "varInspector": {
   "cols": {
    "lenName": 16,
    "lenType": 16,
    "lenVar": 40
   },
   "kernels_config": {
    "python": {
     "delete_cmd_postfix": "",
     "delete_cmd_prefix": "del ",
     "library": "var_list.py",
     "varRefreshCmd": "print(var_dic_list())"
    },
    "r": {
     "delete_cmd_postfix": ") ",
     "delete_cmd_prefix": "rm(",
     "library": "var_list.r",
     "varRefreshCmd": "cat(var_dic_list()) "
    }
   },
   "types_to_exclude": [
    "module",
    "function",
    "builtin_function_or_method",
    "instance",
    "_Feature"
   ],
   "window_display": false
  }
 },
 "nbformat": 4,
 "nbformat_minor": 5
}

{
 "cells": [
  {
   "cell_type": "code",
   "execution_count": null,
   "id": "cfe05beb",
   "metadata": {
    "ExecuteTime": {
     "end_time": "2023-03-09T03:30:08.058486Z",
     "start_time": "2023-03-09T03:30:07.605356Z"
    }
   },
   "outputs": [],
   "source": [
    "%load_ext nb_black\n",
    "import ambee_sdk as ambee\n",
    "import pandas as pd\n",
    "import datetime"
   ]
  },
  {
   "cell_type": "code",
   "execution_count": null,
   "id": "76707f8c",
   "metadata": {
    "ExecuteTime": {
     "end_time": "2023-03-09T03:30:08.069434Z",
     "start_time": "2023-03-09T03:30:08.060261Z"
    }
   },
   "outputs": [],
   "source": [
    "postcodes = [(560016, \"IN\"), (560017, \"IN\"), (560018, \"IN\")]\n",
    "lat_lngs = [(12, 77), (12.05, 77.05), (12.1, 77.1)]\n",
    "cities = [\"Bangalore\", \"Mysore\", \"Delhi\"]\n",
    "countrycodes = [\"IN\", \"US\", \"FR\"]\n",
    "places = [\"London,UK\", \"Paris,FR\", \"Boston,US\"]"
   ]
  },
  {
   "cell_type": "code",
   "execution_count": null,
   "id": "0594795f",
   "metadata": {
    "ExecuteTime": {
     "end_time": "2023-03-09T03:30:08.078125Z",
     "start_time": "2023-03-09T03:30:08.071805Z"
    }
   },
   "outputs": [],
   "source": [
    "to_val = datetime.datetime.utcnow()\n",
    "from_val = to_val - datetime.timedelta(days=1)"
   ]
  },
  {
   "cell_type": "code",
   "execution_count": null,
   "id": "07546d1f",
   "metadata": {
    "ExecuteTime": {
     "end_time": "2023-03-09T03:30:08.087045Z",
     "start_time": "2023-03-09T03:30:08.082057Z"
    }
   },
   "outputs": [],
   "source": [
    "to_val = to_val.strftime(\"%Y-%m-%d %H:%M:%S\")\n",
    "to_val"
   ]
  },
  {
   "cell_type": "code",
   "execution_count": null,
   "id": "aefd49ac",
   "metadata": {
    "ExecuteTime": {
     "end_time": "2023-03-09T03:30:08.095909Z",
     "start_time": "2023-03-09T03:30:08.091540Z"
    }
   },
   "outputs": [],
   "source": [
    "from_val = from_val.strftime(\"%Y-%m-%d %H:%M:%S\")\n",
    "from_val"
   ]
  },
  {
   "cell_type": "code",
   "execution_count": null,
   "id": "5bc4d726",
   "metadata": {
    "ExecuteTime": {
     "end_time": "2023-03-09T03:30:08.100277Z",
     "start_time": "2023-03-09T03:30:08.097115Z"
    }
   },
   "outputs": [],
   "source": [
    "x_api_key = \"Your API Key\""
   ]
  },
  {
   "cell_type": "code",
   "execution_count": null,
   "id": "74d70964",
   "metadata": {
    "ExecuteTime": {
     "end_time": "2023-03-09T03:30:08.106997Z",
     "start_time": "2023-03-09T03:30:08.101465Z"
    }
   },
   "outputs": [],
   "source": [
    "aq = ambee.air_quality(x_api_key=x_api_key)"
   ]
  },
  {
   "cell_type": "code",
   "execution_count": null,
   "id": "5f518b3d",
   "metadata": {
    "ExecuteTime": {
     "end_time": "2023-03-09T03:30:08.627832Z",
     "start_time": "2023-03-09T03:30:08.108356Z"
    }
   },
   "outputs": [],
   "source": [
    "aq.multiple_calls(\n",
    "    by=\"postcode\",\n",
    "    func=aq.get_latest,\n",
    "    postalCodes=postcodes,\n",
    ")"
   ]
  },
  {
   "cell_type": "code",
   "execution_count": null,
   "id": "16a85a2f",
   "metadata": {
    "ExecuteTime": {
     "end_time": "2023-03-09T03:30:08.929096Z",
     "start_time": "2023-03-09T03:30:08.634324Z"
    }
   },
   "outputs": [],
   "source": [
    "dfs = aq.multiple_calls(\n",
    "    by=\"postcode\",\n",
    "    func=aq.get_latest,\n",
    "    postalCodes=postcodes,\n",
    "    return_df=True,\n",
    ")\n",
    "pd.concat(dfs)"
   ]
  },
  {
   "cell_type": "code",
   "execution_count": null,
   "id": "e9c0eb3c",
   "metadata": {
    "ExecuteTime": {
     "end_time": "2023-03-09T03:30:09.656683Z",
     "start_time": "2023-03-09T03:30:08.930801Z"
    }
   },
   "outputs": [],
   "source": [
    "aq.multiple_calls(by=\"latlng\", func=aq.get_latest, lat_lngs=lat_lngs)"
   ]
  },
  {
   "cell_type": "code",
   "execution_count": null,
   "id": "31b736e2",
   "metadata": {
    "ExecuteTime": {
     "end_time": "2023-03-09T03:30:09.935766Z",
     "start_time": "2023-03-09T03:30:09.660138Z"
    }
   },
   "outputs": [],
   "source": [
    "dfs = aq.multiple_calls(\n",
    "    by=\"latlng\", func=aq.get_latest, lat_lngs=lat_lngs, return_df=True\n",
    ")\n",
    "pd.concat(dfs)"
   ]
  },
  {
   "cell_type": "code",
   "execution_count": null,
   "id": "160d7af2",
   "metadata": {
    "ExecuteTime": {
     "end_time": "2023-03-09T03:30:11.760179Z",
     "start_time": "2023-03-09T03:30:09.939832Z"
    }
   },
   "outputs": [],
   "source": [
    "aq.multiple_calls(\n",
    "    by=\"city\",\n",
    "    func=aq.get_latest,\n",
    "    cities=cities,\n",
    ")"
   ]
  },
  {
   "cell_type": "code",
   "execution_count": null,
   "id": "f0246a06",
   "metadata": {
    "ExecuteTime": {
     "end_time": "2023-03-09T03:30:12.017793Z",
     "start_time": "2023-03-09T03:30:11.762263Z"
    }
   },
   "outputs": [],
   "source": [
    "dfs = aq.multiple_calls(by=\"city\", func=aq.get_latest, cities=cities, return_df=True)\n",
    "pd.concat(dfs)"
   ]
  },
  {
   "cell_type": "code",
   "execution_count": null,
   "id": "e9f6fe93",
   "metadata": {
    "ExecuteTime": {
     "end_time": "2023-03-09T03:30:12.560050Z",
     "start_time": "2023-03-09T03:30:12.020599Z"
    }
   },
   "outputs": [],
   "source": [
    "aq.multiple_calls(\n",
    "    by=\"countrycode\",\n",
    "    func=aq.get_latest,\n",
    "    countryCodes=countrycodes,\n",
    ")"
   ]
  },
  {
   "cell_type": "code",
   "execution_count": null,
   "id": "71bb7a1f",
   "metadata": {
    "ExecuteTime": {
     "end_time": "2023-03-09T03:30:12.849385Z",
     "start_time": "2023-03-09T03:30:12.563040Z"
    }
   },
   "outputs": [],
   "source": [
    "dfs = aq.multiple_calls(\n",
    "    by=\"countrycode\", func=aq.get_latest, countryCodes=countrycodes, return_df=True\n",
    ")\n",
    "pd.concat(dfs)"
   ]
  },
  {
   "cell_type": "code",
   "execution_count": null,
   "id": "88a76533",
   "metadata": {
    "ExecuteTime": {
     "end_time": "2023-03-09T03:30:14.441507Z",
     "start_time": "2023-03-09T03:30:12.850877Z"
    }
   },
   "outputs": [],
   "source": [
    "dfs = aq.multiple_calls(\n",
    "    by=\"latlng\",\n",
    "    func=aq.get_historical,\n",
    "    lat_lngs=lat_lngs,\n",
    "    from_val=from_val,\n",
    "    to_val=to_val,\n",
    "    return_df=True,\n",
    ")\n",
    "pd.concat(dfs)"
   ]
  },
  {
   "cell_type": "code",
   "execution_count": null,
   "id": "f653ff29",
   "metadata": {
    "ExecuteTime": {
     "end_time": "2023-03-09T03:30:14.448107Z",
     "start_time": "2023-03-09T03:30:14.443537Z"
    }
   },
   "outputs": [],
   "source": [
    "pollen = ambee.pollen(x_api_key=x_api_key)"
   ]
  },
  {
   "cell_type": "code",
   "execution_count": null,
   "id": "a166f4f6",
   "metadata": {
    "ExecuteTime": {
     "end_time": "2023-03-09T03:30:16.276916Z",
     "start_time": "2023-03-09T03:30:14.450216Z"
    }
   },
   "outputs": [],
   "source": [
    "dfs = pollen.multiple_calls(\n",
    "    by=\"latlng\", func=pollen.get_latest, lat_lngs=lat_lngs, return_df=True\n",
    ")\n",
    "pd.concat(dfs)"
   ]
  },
  {
   "cell_type": "code",
   "execution_count": null,
   "id": "77e613e3",
   "metadata": {
    "ExecuteTime": {
     "end_time": "2023-03-09T03:30:19.768844Z",
     "start_time": "2023-03-09T03:30:16.278937Z"
    }
   },
   "outputs": [],
   "source": [
    "dfs = pollen.multiple_calls(\n",
    "    by=\"place\", func=pollen.get_latest, places=places, return_df=True\n",
    ")\n",
    "pd.concat(dfs)"
   ]
  },
  {
   "cell_type": "code",
   "execution_count": null,
   "id": "dbd767a8",
   "metadata": {
    "ExecuteTime": {
     "end_time": "2023-03-09T03:30:28.055121Z",
     "start_time": "2023-03-09T03:30:19.771198Z"
    }
   },
   "outputs": [],
   "source": [
    "dfs = pollen.multiple_calls(\n",
    "    by=\"latlng\",\n",
    "    func=pollen.get_historical,\n",
    "    lat_lngs=lat_lngs,\n",
    "    from_val=from_val,\n",
    "    to_val=to_val,\n",
    "    return_df=True,\n",
    ")\n",
    "pd.concat(dfs)"
   ]
  },
  {
   "cell_type": "code",
   "execution_count": null,
   "id": "46e1db20",
   "metadata": {
    "ExecuteTime": {
     "end_time": "2023-03-09T03:30:36.054839Z",
     "start_time": "2023-03-09T03:30:28.056976Z"
    }
   },
   "outputs": [],
   "source": [
    "dfs = pollen.multiple_calls(\n",
    "    by=\"place\",\n",
    "    func=pollen.get_historical,\n",
    "    places=places,\n",
    "    from_val=from_val,\n",
    "    to_val=to_val,\n",
    "    return_df=True,\n",
    ")\n",
    "pd.concat(dfs)"
   ]
  },
  {
   "cell_type": "code",
   "execution_count": null,
   "id": "f423bf4e",
   "metadata": {
    "ExecuteTime": {
     "end_time": "2023-03-09T03:30:38.912597Z",
     "start_time": "2023-03-09T03:30:36.056887Z"
    }
   },
   "outputs": [],
   "source": [
    "dfs = pollen.multiple_calls(\n",
    "    by=\"latlng\", func=pollen.get_forecast, lat_lngs=lat_lngs, return_df=True\n",
    ")\n",
    "pd.concat(dfs)"
   ]
  },
  {
   "cell_type": "code",
   "execution_count": null,
   "id": "224a6038",
   "metadata": {
    "ExecuteTime": {
     "end_time": "2023-03-09T03:30:41.381844Z",
     "start_time": "2023-03-09T03:30:38.914525Z"
    }
   },
   "outputs": [],
   "source": [
    "dfs = pollen.multiple_calls(\n",
    "    by=\"place\", func=pollen.get_forecast, places=places, return_df=True\n",
    ")\n",
    "pd.concat(dfs)"
   ]
  },
  {
   "cell_type": "code",
   "execution_count": null,
   "id": "41b03270",
   "metadata": {
    "ExecuteTime": {
     "end_time": "2023-03-09T03:30:41.389313Z",
     "start_time": "2023-03-09T03:30:41.383314Z"
    }
   },
   "outputs": [],
   "source": [
    "df = pd.concat(dfs)"
   ]
  },
  {
   "cell_type": "code",
   "execution_count": null,
   "id": "aedbe983",
   "metadata": {
    "ExecuteTime": {
     "end_time": "2023-03-09T03:30:41.396020Z",
     "start_time": "2023-03-09T03:30:41.390578Z"
    }
   },
   "outputs": [],
   "source": [
    "gdf = pollen.to_geodataframe(df)"
   ]
  },
  {
   "cell_type": "code",
   "execution_count": null,
   "id": "1e78c7c8",
   "metadata": {},
   "outputs": [],
   "source": []
  }
 ],
 "metadata": {
  "hide_input": false,
  "kernelspec": {
   "display_name": "Python 3 (ipykernel)",
   "language": "python",
   "name": "python3"
  },
  "language_info": {
   "codemirror_mode": {
    "name": "ipython",
    "version": 3
   },
   "file_extension": ".py",
   "mimetype": "text/x-python",
   "name": "python",
   "nbconvert_exporter": "python",
   "pygments_lexer": "ipython3",
   "version": "3.10.8"
  },
  "varInspector": {
   "cols": {
    "lenName": 16,
    "lenType": 16,
    "lenVar": 40
   },
   "kernels_config": {
    "python": {
     "delete_cmd_postfix": "",
     "delete_cmd_prefix": "del ",
     "library": "var_list.py",
     "varRefreshCmd": "print(var_dic_list())"
    },
    "r": {
     "delete_cmd_postfix": ") ",
     "delete_cmd_prefix": "rm(",
     "library": "var_list.r",
     "varRefreshCmd": "cat(var_dic_list()) "
    }
   },
   "types_to_exclude": [
    "module",
    "function",
    "builtin_function_or_method",
    "instance",
    "_Feature"
   ],
   "window_display": false
  }
 },
 "nbformat": 4,
 "nbformat_minor": 5
}

{
 "cells": [
  {
   "cell_type": "code",
   "execution_count": null,
   "id": "e11adbdc",
   "metadata": {
    "ExecuteTime": {
     "end_time": "2023-03-01T23:02:46.496863Z",
     "start_time": "2023-03-01T23:02:46.447198Z"
    }
   },
   "outputs": [],
   "source": [
    "import ambee_sdk as ambee\n",
    "import datetime"
   ]
  },
  {
   "cell_type": "code",
   "execution_count": null,
   "id": "c6cf0b6f",
   "metadata": {
    "ExecuteTime": {
     "end_time": "2023-03-01T23:02:52.836691Z",
     "start_time": "2023-03-01T23:02:52.834241Z"
    }
   },
   "outputs": [],
   "source": [
    "x_api_key = \"Put_Your_API_Key_Here\""
   ]
  },
  {
   "cell_type": "code",
   "execution_count": null,
   "id": "b4ce289d",
   "metadata": {
    "ExecuteTime": {
     "end_time": "2023-03-01T23:02:53.480774Z",
     "start_time": "2023-03-01T23:02:53.476186Z"
    }
   },
   "outputs": [],
   "source": [
    "aq = ambee.air_quality(x_api_key=x_api_key)"
   ]
  },
  {
   "cell_type": "code",
   "execution_count": null,
   "id": "444a43a6",
   "metadata": {
    "ExecuteTime": {
     "end_time": "2023-03-01T23:02:54.100812Z",
     "start_time": "2023-03-01T23:02:54.087831Z"
    }
   },
   "outputs": [],
   "source": [
    "aq.x_api_key"
   ]
  },
  {
   "cell_type": "code",
   "execution_count": null,
   "id": "454af950",
   "metadata": {
    "ExecuteTime": {
     "end_time": "2023-03-01T22:59:22.296466Z",
     "start_time": "2023-03-01T22:59:21.266677Z"
    }
   },
   "outputs": [],
   "source": [
    "aq.get_latest(by='lat-lng', lat=12, lng=77)"
   ]
  },
  {
   "cell_type": "code",
   "execution_count": null,
   "id": "27fb330a",
   "metadata": {
    "ExecuteTime": {
     "end_time": "2023-03-01T22:59:23.153015Z",
     "start_time": "2023-03-01T22:59:22.945389Z"
    }
   },
   "outputs": [],
   "source": [
    "aq.get_latest(by='postal-code', postalCode=560020, countryCode=\"IN\")"
   ]
  },
  {
   "cell_type": "code",
   "execution_count": null,
   "id": "365732d3",
   "metadata": {
    "ExecuteTime": {
     "end_time": "2023-03-01T22:59:24.443428Z",
     "start_time": "2023-03-01T22:59:23.578626Z"
    }
   },
   "outputs": [],
   "source": [
    "aq.get_latest(by='city', city=\"Mysore\")"
   ]
  },
  {
   "cell_type": "code",
   "execution_count": null,
   "id": "f845083b",
   "metadata": {
    "ExecuteTime": {
     "end_time": "2023-03-01T22:59:26.919419Z",
     "start_time": "2023-03-01T22:59:26.597827Z"
    }
   },
   "outputs": [],
   "source": [
    "aq.get_latest(by='country-code', countryCode=\"IN\")"
   ]
  },
  {
   "cell_type": "code",
   "execution_count": null,
   "id": "791cbadf",
   "metadata": {
    "ExecuteTime": {
     "end_time": "2023-03-01T22:59:27.499130Z",
     "start_time": "2023-03-01T22:59:27.494065Z"
    }
   },
   "outputs": [],
   "source": [
    "to_val = datetime.datetime.utcnow()\n",
    "from_val = to_val - datetime.timedelta(days=1)"
   ]
  },
  {
   "cell_type": "code",
   "execution_count": null,
   "id": "e67f5e87",
   "metadata": {
    "ExecuteTime": {
     "end_time": "2023-03-01T22:59:28.216718Z",
     "start_time": "2023-03-01T22:59:28.210396Z"
    }
   },
   "outputs": [],
   "source": [
    "to_val = to_val.strftime(\"%Y-%m-%d %H:%M:%S\")\n",
    "to_val"
   ]
  },
  {
   "cell_type": "code",
   "execution_count": null,
   "id": "8a835383",
   "metadata": {
    "ExecuteTime": {
     "end_time": "2023-03-01T22:59:29.874734Z",
     "start_time": "2023-03-01T22:59:29.867534Z"
    }
   },
   "outputs": [],
   "source": [
    "from_val = from_val.strftime(\"%Y-%m-%d %H:%M:%S\")\n",
    "from_val"
   ]
  },
  {
   "cell_type": "code",
   "execution_count": null,
   "id": "7841c082",
   "metadata": {
    "ExecuteTime": {
     "end_time": "2023-03-01T22:59:38.888709Z",
     "start_time": "2023-03-01T22:59:38.296386Z"
    }
   },
   "outputs": [],
   "source": [
    "aq.get_historical(by='lat-lng', lat=12, lng=77, from_val=from_val, to_val=to_val)"
   ]
  },
  {
   "cell_type": "code",
   "execution_count": null,
   "id": "cb07ba50",
   "metadata": {
    "ExecuteTime": {
     "end_time": "2023-03-01T22:59:45.754825Z",
     "start_time": "2023-03-01T22:59:45.338761Z"
    }
   },
   "outputs": [],
   "source": [
    "aq.get_historical(by='postal-code', postalCode=560020, countryCode=\"IN\", from_val=from_val, to_val=to_val)"
   ]
  },
  {
   "cell_type": "code",
   "execution_count": null,
   "id": "a9f3feb1",
   "metadata": {
    "ExecuteTime": {
     "end_time": "2023-03-01T22:59:46.375700Z",
     "start_time": "2023-03-01T22:59:46.371029Z"
    }
   },
   "outputs": [],
   "source": [
    "pollen = ambee.pollen(x_api_key=x_api_key)"
   ]
  },
  {
   "cell_type": "code",
   "execution_count": null,
   "id": "7ee9c1e5",
   "metadata": {
    "ExecuteTime": {
     "end_time": "2023-03-01T22:59:47.793397Z",
     "start_time": "2023-03-01T22:59:47.341485Z"
    }
   },
   "outputs": [],
   "source": [
    "pollen.get_latest(by='lat-lng', lat=12, lng=77)"
   ]
  },
  {
   "cell_type": "code",
   "execution_count": null,
   "id": "f5beb007",
   "metadata": {
    "ExecuteTime": {
     "end_time": "2023-03-01T22:59:48.632182Z",
     "start_time": "2023-03-01T22:59:48.207885Z"
    }
   },
   "outputs": [],
   "source": [
    "pollen.get_latest(by='place', place='London')"
   ]
  },
  {
   "cell_type": "code",
   "execution_count": null,
   "id": "c869d4ae",
   "metadata": {
    "ExecuteTime": {
     "end_time": "2023-03-01T22:59:51.688415Z",
     "start_time": "2023-03-01T22:59:48.974068Z"
    }
   },
   "outputs": [],
   "source": [
    "pollen.get_historical(by='lat-lng', lat=12, lng=77, from_val=from_val, to_val=to_val)"
   ]
  },
  {
   "cell_type": "code",
   "execution_count": null,
   "id": "4fb2ab83",
   "metadata": {
    "ExecuteTime": {
     "end_time": "2023-03-01T22:59:56.102638Z",
     "start_time": "2023-03-01T22:59:53.592612Z"
    }
   },
   "outputs": [],
   "source": [
    "pollen.get_historical(by='place', place='London', from_val=from_val, to_val=to_val)"
   ]
  },
  {
   "cell_type": "code",
   "execution_count": null,
   "id": "c3694b27",
   "metadata": {
    "ExecuteTime": {
     "end_time": "2023-03-01T22:59:58.961105Z",
     "start_time": "2023-03-01T22:59:58.142718Z"
    }
   },
   "outputs": [],
   "source": [
    "pollen.get_forecast(by='lat-lng', lat=12, lng=77)"
   ]
  },
  {
   "cell_type": "code",
   "execution_count": null,
   "id": "2220fac9",
   "metadata": {
    "ExecuteTime": {
     "end_time": "2023-03-01T23:00:00.460205Z",
     "start_time": "2023-03-01T22:59:59.460107Z"
    }
   },
   "outputs": [],
   "source": [
    "pollen.get_forecast(by='place', place='London')"
   ]
  },
  {
   "cell_type": "code",
   "execution_count": null,
   "id": "46c9474c",
   "metadata": {
    "ExecuteTime": {
     "end_time": "2023-03-01T23:00:03.149826Z",
     "start_time": "2023-03-01T23:00:03.145636Z"
    }
   },
   "outputs": [],
   "source": [
    "weather = ambee.weather(x_api_key=x_api_key)"
   ]
  },
  {
   "cell_type": "code",
   "execution_count": null,
   "id": "1f1a3666",
   "metadata": {
    "ExecuteTime": {
     "end_time": "2023-03-01T23:00:05.100937Z",
     "start_time": "2023-03-01T23:00:03.839989Z"
    }
   },
   "outputs": [],
   "source": [
    "weather.get_latest(by='lat-lng', lat=12, lng=77)"
   ]
  },
  {
   "cell_type": "code",
   "execution_count": null,
   "id": "1e525737",
   "metadata": {
    "ExecuteTime": {
     "end_time": "2023-03-01T23:00:08.175551Z",
     "start_time": "2023-03-01T23:00:05.586698Z"
    }
   },
   "outputs": [],
   "source": [
    "weather.get_historical(by='lat-lng', lat=12, lng=77, from_val=from_val, to_val=to_val)"
   ]
  },
  {
   "cell_type": "code",
   "execution_count": null,
   "id": "18764270",
   "metadata": {
    "ExecuteTime": {
     "end_time": "2023-03-01T23:00:10.835452Z",
     "start_time": "2023-03-01T23:00:08.282343Z"
    }
   },
   "outputs": [],
   "source": [
    "weather.get_historical(by='lat-lng', lat=12, lng=77, from_val=from_val, to_val=to_val, daily=True)"
   ]
  },
  {
   "cell_type": "code",
   "execution_count": null,
   "id": "88d4c637",
   "metadata": {
    "ExecuteTime": {
     "end_time": "2023-03-01T23:00:12.285763Z",
     "start_time": "2023-03-01T23:00:10.933499Z"
    }
   },
   "outputs": [],
   "source": [
    "weather.get_forecast(by='lat-lng', lat=12, lng=77)"
   ]
  },
  {
   "cell_type": "code",
   "execution_count": null,
   "id": "9377bfaf",
   "metadata": {
    "ExecuteTime": {
     "end_time": "2023-03-01T23:00:16.364875Z",
     "start_time": "2023-03-01T23:00:12.371383Z"
    }
   },
   "outputs": [],
   "source": [
    "weather.get_forecast(by='lat-lng', lat=12, lng=77, daily=True)"
   ]
  },
  {
   "cell_type": "code",
   "execution_count": null,
   "id": "d0cc8854",
   "metadata": {
    "ExecuteTime": {
     "end_time": "2023-03-01T23:00:16.596968Z",
     "start_time": "2023-03-01T23:00:16.466837Z"
    }
   },
   "outputs": [],
   "source": [
    "weather.get_severe_weather(by='lat-lng', lat=12, lng=77)"
   ]
  },
  {
   "cell_type": "code",
   "execution_count": null,
   "id": "c14179fd",
   "metadata": {
    "ExecuteTime": {
     "end_time": "2023-03-01T23:00:16.858875Z",
     "start_time": "2023-03-01T23:00:16.720509Z"
    }
   },
   "outputs": [],
   "source": [
    "weather.get_severe_weather(by='place', place='London')"
   ]
  },
  {
   "cell_type": "code",
   "execution_count": null,
   "id": "662a8532",
   "metadata": {
    "ExecuteTime": {
     "end_time": "2023-03-01T23:00:51.182128Z",
     "start_time": "2023-03-01T23:00:49.810544Z"
    }
   },
   "outputs": [],
   "source": [
    "weather.get_latest(by='lat-lng', lat=12, lng=77, units='si')"
   ]
  },
  {
   "cell_type": "code",
   "execution_count": null,
   "id": "6ae31741",
   "metadata": {
    "ExecuteTime": {
     "end_time": "2023-03-01T23:01:05.319534Z",
     "start_time": "2023-03-01T23:01:02.793618Z"
    }
   },
   "outputs": [],
   "source": [
    "weather.get_historical(by='lat-lng', lat=12, lng=77, from_val=from_val, to_val=to_val, units='si')"
   ]
  },
  {
   "cell_type": "code",
   "execution_count": null,
   "id": "4f34af10",
   "metadata": {
    "ExecuteTime": {
     "end_time": "2023-03-01T23:01:13.402061Z",
     "start_time": "2023-03-01T23:01:10.925823Z"
    }
   },
   "outputs": [],
   "source": [
    "weather.get_historical(by='lat-lng', lat=12, lng=77, from_val=from_val, to_val=to_val, daily=True, units='si')"
   ]
  },
  {
   "cell_type": "code",
   "execution_count": null,
   "id": "a69f8b0b",
   "metadata": {
    "ExecuteTime": {
     "end_time": "2023-03-01T23:01:20.074819Z",
     "start_time": "2023-03-01T23:01:18.668391Z"
    }
   },
   "outputs": [],
   "source": [
    "weather.get_forecast(by='lat-lng', lat=12, lng=77, units='si')"
   ]
  },
  {
   "cell_type": "code",
   "execution_count": null,
   "id": "b38d492c",
   "metadata": {
    "ExecuteTime": {
     "end_time": "2023-03-01T23:01:31.526412Z",
     "start_time": "2023-03-01T23:01:27.507553Z"
    }
   },
   "outputs": [],
   "source": [
    "weather.get_forecast(by='lat-lng', lat=12, lng=77, daily=True, units='si')"
   ]
  },
  {
   "cell_type": "code",
   "execution_count": null,
   "id": "5146e71e",
   "metadata": {
    "ExecuteTime": {
     "end_time": "2023-03-01T23:01:40.039251Z",
     "start_time": "2023-03-01T23:01:39.716905Z"
    }
   },
   "outputs": [],
   "source": [
    "weather.get_severe_weather(by='lat-lng', lat=12, lng=77, units='si')"
   ]
  },
  {
   "cell_type": "code",
   "execution_count": null,
   "id": "d1bfa4c3",
   "metadata": {
    "ExecuteTime": {
     "end_time": "2023-03-01T23:01:45.667557Z",
     "start_time": "2023-03-01T23:01:45.437040Z"
    }
   },
   "outputs": [],
   "source": [
    "weather.get_severe_weather(by='place', place='London', units='si')"
   ]
  },
  {
   "cell_type": "code",
   "execution_count": null,
   "id": "500285a2",
   "metadata": {
    "ExecuteTime": {
     "end_time": "2023-03-01T23:01:56.522089Z",
     "start_time": "2023-03-01T23:01:56.518731Z"
    }
   },
   "outputs": [],
   "source": [
    "fire = ambee.fire(x_api_key=x_api_key)"
   ]
  },
  {
   "cell_type": "code",
   "execution_count": null,
   "id": "24642313",
   "metadata": {
    "ExecuteTime": {
     "end_time": "2023-03-01T23:01:58.522566Z",
     "start_time": "2023-03-01T23:01:57.178648Z"
    }
   },
   "outputs": [],
   "source": [
    "fire.get_latest(by='lat-lng', lat=12, lng=77)"
   ]
  },
  {
   "cell_type": "code",
   "execution_count": null,
   "id": "83f9f5f0",
   "metadata": {
    "ExecuteTime": {
     "end_time": "2023-03-01T23:02:00.304801Z",
     "start_time": "2023-03-01T23:02:00.132052Z"
    }
   },
   "outputs": [],
   "source": [
    "fire.get_latest(by='place', place='London')"
   ]
  },
  {
   "cell_type": "code",
   "execution_count": null,
   "id": "b3809427",
   "metadata": {
    "ExecuteTime": {
     "end_time": "2023-03-01T23:02:02.063376Z",
     "start_time": "2023-03-01T23:02:02.058252Z"
    }
   },
   "outputs": [],
   "source": [
    "ndvi = ambee.ndvi(x_api_key=x_api_key)"
   ]
  },
  {
   "cell_type": "code",
   "execution_count": null,
   "id": "6dd4b656",
   "metadata": {
    "ExecuteTime": {
     "end_time": "2023-03-01T23:02:04.909382Z",
     "start_time": "2023-03-01T23:02:04.669798Z"
    }
   },
   "outputs": [],
   "source": [
    "ndvi.get_latest(by='lat-lng', lat=12, lng=77)"
   ]
  },
  {
   "cell_type": "code",
   "execution_count": null,
   "id": "e54cf5bb",
   "metadata": {},
   "outputs": [],
   "source": []
  }
 ],
 "metadata": {
  "hide_input": false,
  "kernelspec": {
   "display_name": "Python 3 (ipykernel)",
   "language": "python",
   "name": "python3"
  },
  "language_info": {
   "codemirror_mode": {
    "name": "ipython",
    "version": 3
   },
   "file_extension": ".py",
   "mimetype": "text/x-python",
   "name": "python",
   "nbconvert_exporter": "python",
   "pygments_lexer": "ipython3",
   "version": "3.10.8"
  },
  "varInspector": {
   "cols": {
    "lenName": 16,
    "lenType": 16,
    "lenVar": 40
   },
   "kernels_config": {
    "python": {
     "delete_cmd_postfix": "",
     "delete_cmd_prefix": "del ",
     "library": "var_list.py",
     "varRefreshCmd": "print(var_dic_list())"
    },
    "r": {
     "delete_cmd_postfix": ") ",
     "delete_cmd_prefix": "rm(",
     "library": "var_list.r",
     "varRefreshCmd": "cat(var_dic_list()) "
    }
   },
   "types_to_exclude": [
    "module",
    "function",
    "builtin_function_or_method",
    "instance",
    "_Feature"
   ],
   "window_display": false
  }
 },
 "nbformat": 4,
 "nbformat_minor": 5
}

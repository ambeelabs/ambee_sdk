{
 "cells": [
  {
   "cell_type": "code",
   "execution_count": null,
   "id": "e11adbdc",
   "metadata": {
    "ExecuteTime": {
     "end_time": "2023-03-07T04:32:49.612945Z",
     "start_time": "2023-03-07T04:32:49.197273Z"
    }
   },
   "outputs": [],
   "source": [
    "import ambee_sdk as ambee\n",
    "import datetime"
   ]
  },
  {
   "cell_type": "code",
   "execution_count": null,
   "id": "c6cf0b6f",
   "metadata": {
    "ExecuteTime": {
     "end_time": "2023-03-07T04:32:50.540878Z",
     "start_time": "2023-03-07T04:32:50.538484Z"
    }
   },
   "outputs": [],
   "source": [
    "x_api_key = \"Your Key Here\""
   ]
  },
  {
   "cell_type": "code",
   "execution_count": null,
   "id": "b4ce289d",
   "metadata": {
    "ExecuteTime": {
     "end_time": "2023-03-07T04:32:50.932180Z",
     "start_time": "2023-03-07T04:32:50.929589Z"
    }
   },
   "outputs": [],
   "source": [
    "aq = ambee.air_quality(x_api_key=x_api_key)"
   ]
  },
  {
   "cell_type": "code",
   "execution_count": null,
   "id": "444a43a6",
   "metadata": {
    "ExecuteTime": {
     "end_time": "2023-03-07T04:32:52.941174Z",
     "start_time": "2023-03-07T04:32:52.934687Z"
    }
   },
   "outputs": [],
   "source": [
    "aq.x_api_key"
   ]
  },
  {
   "cell_type": "code",
   "execution_count": null,
   "id": "454af950",
   "metadata": {
    "ExecuteTime": {
     "end_time": "2023-03-07T04:32:54.729465Z",
     "start_time": "2023-03-07T04:32:53.396328Z"
    }
   },
   "outputs": [],
   "source": [
    "aq.get_latest(by='latlng', lat=12, lng=77)"
   ]
  },
  {
   "cell_type": "code",
   "execution_count": null,
   "id": "27fb330a",
   "metadata": {
    "ExecuteTime": {
     "end_time": "2023-03-07T04:32:55.395152Z",
     "start_time": "2023-03-07T04:32:55.156069Z"
    }
   },
   "outputs": [],
   "source": [
    "aq.get_latest(by='postcode', postalCode=560020, countryCode=\"IN\")"
   ]
  },
  {
   "cell_type": "code",
   "execution_count": null,
   "id": "365732d3",
   "metadata": {
    "ExecuteTime": {
     "end_time": "2023-03-07T04:32:56.079915Z",
     "start_time": "2023-03-07T04:32:55.531178Z"
    }
   },
   "outputs": [],
   "source": [
    "aq.get_latest(by='city', city=\"Mysore\")"
   ]
  },
  {
   "cell_type": "code",
   "execution_count": null,
   "id": "f845083b",
   "metadata": {
    "ExecuteTime": {
     "end_time": "2023-03-07T04:32:56.610660Z",
     "start_time": "2023-03-07T04:32:56.398977Z"
    }
   },
   "outputs": [],
   "source": [
    "aq.get_latest(by='countrycode', countryCode=\"IN\")"
   ]
  },
  {
   "cell_type": "code",
   "execution_count": null,
   "id": "791cbadf",
   "metadata": {
    "ExecuteTime": {
     "end_time": "2023-03-07T04:32:59.648414Z",
     "start_time": "2023-03-07T04:32:59.645828Z"
    }
   },
   "outputs": [],
   "source": [
    "to_val = datetime.datetime.utcnow()\n",
    "from_val = to_val - datetime.timedelta(days=1)"
   ]
  },
  {
   "cell_type": "code",
   "execution_count": null,
   "id": "e67f5e87",
   "metadata": {
    "ExecuteTime": {
     "end_time": "2023-03-07T04:33:00.050089Z",
     "start_time": "2023-03-07T04:33:00.045097Z"
    }
   },
   "outputs": [],
   "source": [
    "to_val = to_val.strftime(\"%Y-%m-%d %H:%M:%S\")\n",
    "to_val"
   ]
  },
  {
   "cell_type": "code",
   "execution_count": null,
   "id": "8a835383",
   "metadata": {
    "ExecuteTime": {
     "end_time": "2023-03-07T04:33:00.700700Z",
     "start_time": "2023-03-07T04:33:00.693835Z"
    }
   },
   "outputs": [],
   "source": [
    "from_val = from_val.strftime(\"%Y-%m-%d %H:%M:%S\")\n",
    "from_val"
   ]
  },
  {
   "cell_type": "code",
   "execution_count": null,
   "id": "7841c082",
   "metadata": {
    "ExecuteTime": {
     "end_time": "2023-03-07T04:33:04.388941Z",
     "start_time": "2023-03-07T04:33:03.684964Z"
    }
   },
   "outputs": [],
   "source": [
    "aq.get_historical(by='latlng', lat=12, lng=77, from_val=from_val, to_val=to_val)"
   ]
  },
  {
   "cell_type": "code",
   "execution_count": null,
   "id": "cb07ba50",
   "metadata": {
    "ExecuteTime": {
     "end_time": "2023-03-07T04:33:11.855010Z",
     "start_time": "2023-03-07T04:33:11.334482Z"
    }
   },
   "outputs": [],
   "source": [
    "aq.get_historical(by='postcode', postalCode=560020, countryCode=\"IN\", from_val=from_val, to_val=to_val)"
   ]
  },
  {
   "cell_type": "code",
   "execution_count": null,
   "id": "a9f3feb1",
   "metadata": {
    "ExecuteTime": {
     "end_time": "2023-03-07T04:33:14.467333Z",
     "start_time": "2023-03-07T04:33:14.462853Z"
    }
   },
   "outputs": [],
   "source": [
    "pollen = ambee.pollen(x_api_key=x_api_key)"
   ]
  },
  {
   "cell_type": "code",
   "execution_count": null,
   "id": "7ee9c1e5",
   "metadata": {
    "ExecuteTime": {
     "end_time": "2023-03-07T04:33:17.688572Z",
     "start_time": "2023-03-07T04:33:17.179171Z"
    }
   },
   "outputs": [],
   "source": [
    "pollen.get_latest(by='latlng', lat=12, lng=77)"
   ]
  },
  {
   "cell_type": "code",
   "execution_count": null,
   "id": "f5beb007",
   "metadata": {
    "ExecuteTime": {
     "end_time": "2023-03-07T04:33:20.350134Z",
     "start_time": "2023-03-07T04:33:19.595215Z"
    }
   },
   "outputs": [],
   "source": [
    "pollen.get_latest(by='place', place='London')"
   ]
  },
  {
   "cell_type": "code",
   "execution_count": null,
   "id": "c869d4ae",
   "metadata": {
    "ExecuteTime": {
     "end_time": "2023-03-07T04:33:28.245721Z",
     "start_time": "2023-03-07T04:33:25.571733Z"
    }
   },
   "outputs": [],
   "source": [
    "pollen.get_historical(by='latlng', lat=12, lng=77, from_val=from_val, to_val=to_val)"
   ]
  },
  {
   "cell_type": "code",
   "execution_count": null,
   "id": "4fb2ab83",
   "metadata": {
    "ExecuteTime": {
     "end_time": "2023-03-07T04:33:37.058905Z",
     "start_time": "2023-03-07T04:33:34.003287Z"
    }
   },
   "outputs": [],
   "source": [
    "pollen.get_historical(by='place', place='London', from_val=from_val, to_val=to_val)"
   ]
  },
  {
   "cell_type": "code",
   "execution_count": null,
   "id": "c3694b27",
   "metadata": {
    "ExecuteTime": {
     "end_time": "2023-03-07T04:33:41.358669Z",
     "start_time": "2023-03-07T04:33:40.434929Z"
    }
   },
   "outputs": [],
   "source": [
    "pollen.get_forecast(by='latlng', lat=12, lng=77)"
   ]
  },
  {
   "cell_type": "code",
   "execution_count": null,
   "id": "2220fac9",
   "metadata": {
    "ExecuteTime": {
     "end_time": "2023-03-07T04:33:44.460648Z",
     "start_time": "2023-03-07T04:33:43.586004Z"
    }
   },
   "outputs": [],
   "source": [
    "pollen.get_forecast(by='place', place='London')"
   ]
  },
  {
   "cell_type": "code",
   "execution_count": null,
   "id": "46c9474c",
   "metadata": {
    "ExecuteTime": {
     "end_time": "2023-03-07T04:33:49.923927Z",
     "start_time": "2023-03-07T04:33:49.921467Z"
    }
   },
   "outputs": [],
   "source": [
    "weather = ambee.weather(x_api_key=x_api_key)"
   ]
  },
  {
   "cell_type": "code",
   "execution_count": null,
   "id": "1f1a3666",
   "metadata": {
    "ExecuteTime": {
     "end_time": "2023-03-07T04:33:54.450363Z",
     "start_time": "2023-03-07T04:33:53.271227Z"
    }
   },
   "outputs": [],
   "source": [
    "weather.get_latest(by='latlng', lat=12, lng=77)"
   ]
  },
  {
   "cell_type": "code",
   "execution_count": null,
   "id": "1e525737",
   "metadata": {
    "ExecuteTime": {
     "end_time": "2023-03-07T04:34:00.189217Z",
     "start_time": "2023-03-07T04:33:57.634567Z"
    }
   },
   "outputs": [],
   "source": [
    "weather.get_historical(by='latlng', lat=12, lng=77, from_val=from_val, to_val=to_val)"
   ]
  },
  {
   "cell_type": "code",
   "execution_count": null,
   "id": "18764270",
   "metadata": {
    "ExecuteTime": {
     "end_time": "2023-03-07T04:34:07.952138Z",
     "start_time": "2023-03-07T04:34:04.681238Z"
    }
   },
   "outputs": [],
   "source": [
    "weather.get_historical(by='latlng', lat=12, lng=77, from_val=from_val, to_val=to_val, daily=True)"
   ]
  },
  {
   "cell_type": "code",
   "execution_count": null,
   "id": "88d4c637",
   "metadata": {
    "ExecuteTime": {
     "end_time": "2023-03-07T04:34:12.703462Z",
     "start_time": "2023-03-07T04:34:11.364404Z"
    }
   },
   "outputs": [],
   "source": [
    "weather.get_forecast(by='latlng', lat=12, lng=77)"
   ]
  },
  {
   "cell_type": "code",
   "execution_count": null,
   "id": "9377bfaf",
   "metadata": {
    "ExecuteTime": {
     "end_time": "2023-03-07T04:34:19.537490Z",
     "start_time": "2023-03-07T04:34:15.437933Z"
    }
   },
   "outputs": [],
   "source": [
    "weather.get_forecast(by='latlng', lat=12, lng=77, daily=True)"
   ]
  },
  {
   "cell_type": "code",
   "execution_count": null,
   "id": "d0cc8854",
   "metadata": {
    "ExecuteTime": {
     "end_time": "2023-03-07T04:34:23.588948Z",
     "start_time": "2023-03-07T04:34:23.372107Z"
    }
   },
   "outputs": [],
   "source": [
    "weather.get_severe_weather(by='latlng', lat=12, lng=77)"
   ]
  },
  {
   "cell_type": "code",
   "execution_count": null,
   "id": "c14179fd",
   "metadata": {
    "ExecuteTime": {
     "end_time": "2023-03-07T04:34:27.634618Z",
     "start_time": "2023-03-07T04:34:27.471107Z"
    }
   },
   "outputs": [],
   "source": [
    "weather.get_severe_weather(by='place', place='London')"
   ]
  },
  {
   "cell_type": "code",
   "execution_count": null,
   "id": "662a8532",
   "metadata": {
    "ExecuteTime": {
     "end_time": "2023-03-07T04:34:39.655978Z",
     "start_time": "2023-03-07T04:34:38.437751Z"
    }
   },
   "outputs": [],
   "source": [
    "weather.get_latest(by='latlng', lat=12, lng=77, units='si')"
   ]
  },
  {
   "cell_type": "code",
   "execution_count": null,
   "id": "6ae31741",
   "metadata": {
    "ExecuteTime": {
     "end_time": "2023-03-07T04:34:48.939535Z",
     "start_time": "2023-03-07T04:34:46.414598Z"
    }
   },
   "outputs": [],
   "source": [
    "weather.get_historical(by='latlng', lat=12, lng=77, from_val=from_val, to_val=to_val, units='si')"
   ]
  },
  {
   "cell_type": "code",
   "execution_count": null,
   "id": "4f34af10",
   "metadata": {
    "ExecuteTime": {
     "end_time": "2023-03-07T04:34:55.685535Z",
     "start_time": "2023-03-07T04:34:53.076543Z"
    }
   },
   "outputs": [],
   "source": [
    "weather.get_historical(by='latlng', lat=12, lng=77, from_val=from_val, to_val=to_val, daily=True, units='si')"
   ]
  },
  {
   "cell_type": "code",
   "execution_count": null,
   "id": "a69f8b0b",
   "metadata": {
    "ExecuteTime": {
     "end_time": "2023-03-07T04:34:59.586091Z",
     "start_time": "2023-03-07T04:34:58.287201Z"
    }
   },
   "outputs": [],
   "source": [
    "weather.get_forecast(by='latlng', lat=12, lng=77, units='si')"
   ]
  },
  {
   "cell_type": "code",
   "execution_count": null,
   "id": "b38d492c",
   "metadata": {
    "ExecuteTime": {
     "end_time": "2023-03-07T04:35:08.179569Z",
     "start_time": "2023-03-07T04:35:04.155993Z"
    }
   },
   "outputs": [],
   "source": [
    "weather.get_forecast(by='latlng', lat=12, lng=77, daily=True, units='si')"
   ]
  },
  {
   "cell_type": "code",
   "execution_count": null,
   "id": "5146e71e",
   "metadata": {
    "ExecuteTime": {
     "end_time": "2023-03-07T04:35:12.182649Z",
     "start_time": "2023-03-07T04:35:11.409699Z"
    }
   },
   "outputs": [],
   "source": [
    "weather.get_severe_weather(by='latlng', lat=12, lng=77, units='si')"
   ]
  },
  {
   "cell_type": "code",
   "execution_count": null,
   "id": "d1bfa4c3",
   "metadata": {
    "ExecuteTime": {
     "end_time": "2023-03-07T04:35:14.590359Z",
     "start_time": "2023-03-07T04:35:14.442685Z"
    }
   },
   "outputs": [],
   "source": [
    "weather.get_severe_weather(by='place', place='London', units='si')"
   ]
  },
  {
   "cell_type": "code",
   "execution_count": null,
   "id": "500285a2",
   "metadata": {
    "ExecuteTime": {
     "end_time": "2023-03-07T04:35:15.794815Z",
     "start_time": "2023-03-07T04:35:15.790923Z"
    }
   },
   "outputs": [],
   "source": [
    "fire = ambee.fire(x_api_key=x_api_key)"
   ]
  },
  {
   "cell_type": "code",
   "execution_count": null,
   "id": "24642313",
   "metadata": {
    "ExecuteTime": {
     "end_time": "2023-03-07T04:35:19.954717Z",
     "start_time": "2023-03-07T04:35:19.631305Z"
    }
   },
   "outputs": [],
   "source": [
    "fire.get_latest(by='latlng', lat=12, lng=77)"
   ]
  },
  {
   "cell_type": "code",
   "execution_count": null,
   "id": "83f9f5f0",
   "metadata": {
    "ExecuteTime": {
     "end_time": "2023-03-07T04:36:42.189910Z",
     "start_time": "2023-03-07T04:36:41.979345Z"
    }
   },
   "outputs": [],
   "source": [
    "fire.get_latest(by='place', place='Mysore')"
   ]
  },
  {
   "cell_type": "code",
   "execution_count": null,
   "id": "b3809427",
   "metadata": {
    "ExecuteTime": {
     "end_time": "2023-03-07T04:37:47.275678Z",
     "start_time": "2023-03-07T04:37:47.273125Z"
    }
   },
   "outputs": [],
   "source": [
    "ndvi = ambee.ndvi(x_api_key=x_api_key)"
   ]
  },
  {
   "cell_type": "code",
   "execution_count": null,
   "id": "6dd4b656",
   "metadata": {
    "ExecuteTime": {
     "end_time": "2023-03-07T04:37:51.098733Z",
     "start_time": "2023-03-07T04:37:50.890018Z"
    }
   },
   "outputs": [],
   "source": [
    "ndvi.get_latest(by='latlng', lat=12, lng=77)"
   ]
  },
  {
   "cell_type": "code",
   "execution_count": null,
   "id": "e54cf5bb",
   "metadata": {},
   "outputs": [],
   "source": []
  }
 ],
 "metadata": {
  "hide_input": false,
  "kernelspec": {
   "display_name": "Python 3 (ipykernel)",
   "language": "python",
   "name": "python3"
  },
  "language_info": {
   "codemirror_mode": {
    "name": "ipython",
    "version": 3
   },
   "file_extension": ".py",
   "mimetype": "text/x-python",
   "name": "python",
   "nbconvert_exporter": "python",
   "pygments_lexer": "ipython3",
   "version": "3.10.8"
  },
  "varInspector": {
   "cols": {
    "lenName": 16,
    "lenType": 16,
    "lenVar": 40
   },
   "kernels_config": {
    "python": {
     "delete_cmd_postfix": "",
     "delete_cmd_prefix": "del ",
     "library": "var_list.py",
     "varRefreshCmd": "print(var_dic_list())"
    },
    "r": {
     "delete_cmd_postfix": ") ",
     "delete_cmd_prefix": "rm(",
     "library": "var_list.r",
     "varRefreshCmd": "cat(var_dic_list()) "
    }
   },
   "types_to_exclude": [
    "module",
    "function",
    "builtin_function_or_method",
    "instance",
    "_Feature"
   ],
   "window_display": false
  }
 },
 "nbformat": 4,
 "nbformat_minor": 5
}
